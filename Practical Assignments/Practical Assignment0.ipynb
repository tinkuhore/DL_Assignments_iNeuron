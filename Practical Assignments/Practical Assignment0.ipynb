{
 "cells": [
  {
   "attachments": {},
   "cell_type": "markdown",
   "metadata": {},
   "source": [
    "**Practical Assignment**\n",
    "\n",
    "**Objective**: - Predict Next Sequence\n",
    "To start with deep learning, the very basic project that you can build is to\n",
    "predict the next digit in a sequence.\n",
    "\n",
    "**Dataset**: - Create a sequence like a list of odd numbers and then build a model\n",
    "and train it to predict the next digit in the sequence.\n",
    "\n",
    "**Task**: - A simple neural network with 2 layers would be sufficient to build the\n",
    "model.\n",
    "\n",
    "**Assignment Submission**: - Only submit the Google Colab/Github link.(Make the\n",
    "Link Public)."
   ]
  },
  {
   "cell_type": "code",
   "execution_count": 4,
   "metadata": {},
   "outputs": [
    {
     "name": "stdout",
     "output_type": "stream",
     "text": [
      "/bin/bash: line 1: /media/tinku/Education/iNEURON/DL/iNeuron Assignments/.venv/bin/python: No such file or directory\n",
      "Note: you may need to restart the kernel to use updated packages.\n"
     ]
    }
   ],
   "source": [
    "%pip install numpy"
   ]
  },
  {
   "cell_type": "code",
   "execution_count": 5,
   "metadata": {},
   "outputs": [
    {
     "name": "stdout",
     "output_type": "stream",
     "text": [
      "1/1 [==============================] - 0s 38ms/step\n",
      "The next number in the sequence is: 21\n"
     ]
    }
   ],
   "source": [
    "import numpy as np\n",
    "from tensorflow import keras\n",
    "\n",
    "# Create a sequence of odd numbers\n",
    "sequence = np.arange(1, 2000, 2)\n",
    "\n",
    "# Define the input and output sequences\n",
    "x = sequence[:-1]  # input sequence\n",
    "y = sequence[1:]   # output sequence\n",
    "\n",
    "# Reshape the input sequence to a 2D array\n",
    "x = np.reshape(x, (len(x), 1))\n",
    "\n",
    "# Define the neural network architecture\n",
    "model = keras.Sequential([\n",
    "    keras.layers.Dense(10, input_dim=1, activation='relu'),\n",
    "    keras.layers.Dense(1)\n",
    "])\n",
    "\n",
    "# Compile the model\n",
    "model.compile(loss='mse', optimizer='adam')\n",
    "\n",
    "# Train the model\n",
    "model.fit(x, y, epochs=1000, verbose=0)\n",
    "\n",
    "# Predict the next number in the sequence\n",
    "x_test = np.array([19])  # last number in the sequence\n",
    "y_pred = model.predict(x_test)\n",
    "print(\"The next number in the sequence is:\", int(y_pred))\n"
   ]
  },
  {
   "cell_type": "code",
   "execution_count": 9,
   "metadata": {},
   "outputs": [
    {
     "name": "stdout",
     "output_type": "stream",
     "text": [
      "1/1 [==============================] - 0s 18ms/step\n",
      "The next number in the sequence is: 887\n"
     ]
    }
   ],
   "source": [
    "# Predict the next number in the sequence\n",
    "x_test = np.array([885])  # last number in the sequence\n",
    "y_pred = model.predict(x_test)\n",
    "print(\"The next number in the sequence is:\", int(y_pred))"
   ]
  },
  {
   "cell_type": "code",
   "execution_count": null,
   "metadata": {},
   "outputs": [],
   "source": []
  }
 ],
 "metadata": {
  "kernelspec": {
   "display_name": ".venv",
   "language": "python",
   "name": "python3"
  },
  "language_info": {
   "codemirror_mode": {
    "name": "ipython",
    "version": 3
   },
   "file_extension": ".py",
   "mimetype": "text/x-python",
   "name": "python",
   "nbconvert_exporter": "python",
   "pygments_lexer": "ipython3",
   "version": "3.10.6"
  },
  "orig_nbformat": 4
 },
 "nbformat": 4,
 "nbformat_minor": 2
}
